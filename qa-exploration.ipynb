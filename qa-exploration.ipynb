{
 "cells": [
  {
   "cell_type": "code",
   "id": "initial_id",
   "metadata": {
    "collapsed": true,
    "ExecuteTime": {
     "end_time": "2025-10-28T14:48:47.477449Z",
     "start_time": "2025-10-28T14:48:47.472675Z"
    }
   },
   "source": [
    "import os\n",
    "import pathlib\n",
    "\n",
    "import numpy as np\n",
    "from datasets import load_dataset\n",
    "from transformers import BatchEncoding, GPT2TokenizerFast\n",
    "\n",
    "from config import load_config"
   ],
   "outputs": [],
   "execution_count": 39
  },
  {
   "metadata": {
    "ExecuteTime": {
     "end_time": "2025-10-27T21:13:52.171432Z",
     "start_time": "2025-10-27T21:13:52.159475Z"
    }
   },
   "cell_type": "code",
   "source": [
    "configs = [\n",
    "    pathlib.Path('config/finetune-rus-pol.json'),\n",
    "    pathlib.Path('config/finetune-rus-pol-qa.json'),\n",
    "]\n",
    "cfg, db = load_config(configs, default_config=pathlib.Path('config/default-local.json'))"
   ],
   "id": "6ea83b52e300e7f1",
   "outputs": [],
   "execution_count": 2
  },
  {
   "metadata": {
    "ExecuteTime": {
     "end_time": "2025-10-27T21:18:23.339197Z",
     "start_time": "2025-10-27T21:18:15.148320Z"
    }
   },
   "cell_type": "code",
   "source": [
    "russian_dataset_name = cfg['datasets']['russian']\n",
    "russian_dataset_path = db['russian']['qa'][russian_dataset_name]['dataset']\n",
    "raw_russian_dataset = load_dataset(russian_dataset_path)\n",
    "polish_dataset_name = cfg['datasets']['polish']\n",
    "polish_dataset_path = db['polish']['qa'][polish_dataset_name]['dataset']\n",
    "raw_polish_dataset = load_dataset(polish_dataset_path)"
   ],
   "id": "9c95e96a72717515",
   "outputs": [
    {
     "data": {
      "text/plain": [
       "README.md:   0%|          | 0.00/826 [00:00<?, ?B/s]"
      ],
      "application/vnd.jupyter.widget-view+json": {
       "version_major": 2,
       "version_minor": 0,
       "model_id": "2485dd12503a4edca70ea6e7b87922dc"
      }
     },
     "metadata": {},
     "output_type": "display_data",
     "jetTransient": {
      "display_id": null
     }
    },
    {
     "data": {
      "text/plain": [
       "data/train-00000-of-00001.parquet:   0%|          | 0.00/27.4M [00:00<?, ?B/s]"
      ],
      "application/vnd.jupyter.widget-view+json": {
       "version_major": 2,
       "version_minor": 0,
       "model_id": "268f2cec79fd45348b64f1a207d992c7"
      }
     },
     "metadata": {},
     "output_type": "display_data",
     "jetTransient": {
      "display_id": null
     }
    },
    {
     "data": {
      "text/plain": [
       "data/validation-00000-of-00001.parquet:   0%|          | 0.00/3.51M [00:00<?, ?B/s]"
      ],
      "application/vnd.jupyter.widget-view+json": {
       "version_major": 2,
       "version_minor": 0,
       "model_id": "801b71eeb83c45fc917ec9d3c93f701b"
      }
     },
     "metadata": {},
     "output_type": "display_data",
     "jetTransient": {
      "display_id": null
     }
    },
    {
     "data": {
      "text/plain": [
       "Generating train split:   0%|          | 0/46187 [00:00<?, ? examples/s]"
      ],
      "application/vnd.jupyter.widget-view+json": {
       "version_major": 2,
       "version_minor": 0,
       "model_id": "8af4bc0f564641ec9cfe14c3444b701a"
      }
     },
     "metadata": {},
     "output_type": "display_data",
     "jetTransient": {
      "display_id": null
     }
    },
    {
     "data": {
      "text/plain": [
       "Generating validation split:   0%|          | 0/5764 [00:00<?, ? examples/s]"
      ],
      "application/vnd.jupyter.widget-view+json": {
       "version_major": 2,
       "version_minor": 0,
       "model_id": "11b63d9ab84746cf9fd5a1dd1512eb4f"
      }
     },
     "metadata": {},
     "output_type": "display_data",
     "jetTransient": {
      "display_id": null
     }
    }
   ],
   "execution_count": 7
  },
  {
   "metadata": {
    "ExecuteTime": {
     "end_time": "2025-10-27T21:18:23.355640Z",
     "start_time": "2025-10-27T21:18:23.353073Z"
    }
   },
   "cell_type": "code",
   "source": [
    "print(raw_russian_dataset)\n",
    "print(raw_polish_dataset)"
   ],
   "id": "8650ca3f6ebf3739",
   "outputs": [
    {
     "name": "stdout",
     "output_type": "stream",
     "text": [
      "DatasetDict({\n",
      "    train: Dataset({\n",
      "        features: ['id', 'title', 'context', 'question', 'answers', 'context-phoneme', 'question-phoneme', 'answers-phoneme'],\n",
      "        num_rows: 45328\n",
      "    })\n",
      "    validation: Dataset({\n",
      "        features: ['id', 'title', 'context', 'question', 'answers', 'context-phoneme', 'question-phoneme', 'answers-phoneme'],\n",
      "        num_rows: 5036\n",
      "    })\n",
      "    test: Dataset({\n",
      "        features: ['id', 'title', 'context', 'question', 'answers', 'context-phoneme', 'question-phoneme', 'answers-phoneme'],\n",
      "        num_rows: 23936\n",
      "    })\n",
      "})\n",
      "DatasetDict({\n",
      "    train: Dataset({\n",
      "        features: ['id', 'title', 'context', 'question', 'answers', 'context-phoneme', 'question-phoneme', 'answers-phoneme'],\n",
      "        num_rows: 46187\n",
      "    })\n",
      "    validation: Dataset({\n",
      "        features: ['id', 'title', 'context', 'question', 'answers', 'context-phoneme', 'question-phoneme', 'answers-phoneme'],\n",
      "        num_rows: 5764\n",
      "    })\n",
      "})\n"
     ]
    }
   ],
   "execution_count": 8
  },
  {
   "metadata": {
    "ExecuteTime": {
     "end_time": "2025-10-27T21:18:27.673075Z",
     "start_time": "2025-10-27T21:18:27.668084Z"
    }
   },
   "cell_type": "code",
   "source": [
    "print(\"Context: \", raw_russian_dataset[\"train\"][0][\"context\"])\n",
    "print(\"Question: \", raw_russian_dataset[\"train\"][0][\"question\"])\n",
    "print(\"Answer: \", raw_russian_dataset[\"train\"][0][\"answers\"])\n",
    "print(\"Context: \", raw_polish_dataset[\"train\"][0][\"context\"])\n",
    "print(\"Question: \", raw_polish_dataset[\"train\"][0][\"question\"])\n",
    "print(\"Answer: \", raw_polish_dataset[\"train\"][0][\"answers\"])"
   ],
   "id": "2fe6b30cc251e858",
   "outputs": [
    {
     "name": "stdout",
     "output_type": "stream",
     "text": [
      "Context:  В протерозойских отложениях органические остатки встречаются намного чаще, чем в архейских. Они представлены известковыми выделениями сине-зелёных водорослей, ходами червей, остатками кишечнополостных. Кроме известковых водорослей, к числу древнейших растительных остатков относятся скопления графито-углистого вещества, образовавшегося в результате разложения Corycium enigmaticum. В кремнистых сланцах железорудной формации Канады найдены нитевидные водоросли, грибные нити и формы, близкие современным кокколитофоридам. В железистых кварцитах Северной Америки и Сибири обнаружены железистые продукты жизнедеятельности бактерий.\n",
      "Question:  чем представлены органические остатки?\n",
      "Answer:  {'text': ['известковыми выделениями сине-зелёных водорослей'], 'answer_start': [109]}\n",
      "Context:  Projekty konfederacji zaczęły się załamywać 5 sierpnia 1942. Ponownie wróciła kwestia monachijska, co uaktywniło się wymianą listów Ripka – Stroński. Natomiast 17 sierpnia 1942 doszło do spotkania E. Beneša i J. Masaryka z jednej a Wł. Sikorskiego i E. Raczyńskiego z drugiej strony. Polscy dyplomaci zaproponowali podpisanie układu konfederacyjnego. W następnym miesiącu, tj. 24 września, strona polska przesłała na ręce J. Masaryka projekt deklaracji o przyszłej konfederacji obu państw. Strona czechosłowacka projekt przyjęła, lecz już w listopadzie 1942 E. Beneš podważył ideę konfederacji. W zamian zaproponowano zawarcie układu sojuszniczego z Polską na 20 lat (formalnie nastąpiło to 20 listopada 1942).\n",
      "Question:  Co było powodem powrócenia konceptu porozumieniu monachijskiego?\n",
      "Answer:  {'text': ['wymianą listów Ripka – Stroński'], 'answer_start': [117]}\n"
     ]
    }
   ],
   "execution_count": 9
  },
  {
   "metadata": {
    "ExecuteTime": {
     "end_time": "2025-10-28T15:06:28.919685Z",
     "start_time": "2025-10-28T15:06:27.444897Z"
    }
   },
   "cell_type": "code",
   "source": [
    "print(len(raw_russian_dataset[\"train\"].filter(lambda x: len(x[\"answers\"][\"text\"]) != 1)))\n",
    "print(len(raw_russian_dataset[\"validation\"].filter(lambda x: len(x[\"answers\"][\"text\"]) != 1)))\n",
    "print(len(raw_polish_dataset[\"train\"].filter(lambda x: len(x[\"answers\"][\"text\"]) != 1)))\n",
    "print(len(raw_polish_dataset[\"validation\"].filter(lambda x: len(x[\"answers\"][\"text\"]) != 1)))"
   ],
   "id": "8007660358e5233c",
   "outputs": [
    {
     "name": "stdout",
     "output_type": "stream",
     "text": [
      "0\n"
     ]
    },
    {
     "data": {
      "text/plain": [
       "Filter:   0%|          | 0/5036 [00:00<?, ? examples/s]"
      ],
      "application/vnd.jupyter.widget-view+json": {
       "version_major": 2,
       "version_minor": 0,
       "model_id": "af867b1c591a4665927f4b4870c0eed1"
      }
     },
     "metadata": {},
     "output_type": "display_data",
     "jetTransient": {
      "display_id": null
     }
    },
    {
     "name": "stdout",
     "output_type": "stream",
     "text": [
      "0\n"
     ]
    },
    {
     "data": {
      "text/plain": [
       "Filter:   0%|          | 0/46187 [00:00<?, ? examples/s]"
      ],
      "application/vnd.jupyter.widget-view+json": {
       "version_major": 2,
       "version_minor": 0,
       "model_id": "496408d82a0149a68d11130a3c1561ee"
      }
     },
     "metadata": {},
     "output_type": "display_data",
     "jetTransient": {
      "display_id": null
     }
    },
    {
     "name": "stdout",
     "output_type": "stream",
     "text": [
      "0\n"
     ]
    },
    {
     "data": {
      "text/plain": [
       "Filter:   0%|          | 0/5764 [00:00<?, ? examples/s]"
      ],
      "application/vnd.jupyter.widget-view+json": {
       "version_major": 2,
       "version_minor": 0,
       "model_id": "d07d3f62755c4e37a27dc16303becc7d"
      }
     },
     "metadata": {},
     "output_type": "display_data",
     "jetTransient": {
      "display_id": null
     }
    },
    {
     "name": "stdout",
     "output_type": "stream",
     "text": [
      "0\n"
     ]
    }
   ],
   "execution_count": 46
  },
  {
   "metadata": {
    "ExecuteTime": {
     "end_time": "2025-10-27T21:18:32.777555Z",
     "start_time": "2025-10-27T21:18:32.773619Z"
    }
   },
   "cell_type": "code",
   "source": [
    "class MyGPT2Tokenizer(GPT2TokenizerFast):\n",
    "    def build_inputs_with_special_tokens(self, token_ids_0, token_ids_1=None):\n",
    "        # Example: custom separators or structure\n",
    "        if token_ids_1 is None:\n",
    "            return [self.eos_token_id] + token_ids_0 + [self.eos_token_id]\n",
    "        return (\n",
    "            [self.eos_token_id]\n",
    "            + token_ids_0\n",
    "            + [self.eos_token_id]\n",
    "            + token_ids_1\n",
    "            + [self.eos_token_id]\n",
    "        )\n",
    "\n",
    "\n",
    "def load_tokenizer(vocab: pathlib.Path, merges: pathlib.Path) -> GPT2TokenizerFast:\n",
    "    # ---- Load tokenizer ----\n",
    "    tokenizer = MyGPT2Tokenizer(\n",
    "        vocab_file=str(vocab),\n",
    "        merges_file=str(merges),\n",
    "        add_prefix_space=True,\n",
    "    )\n",
    "\n",
    "    # # Set pad_token\n",
    "    if tokenizer.pad_token is None:\n",
    "        tokenizer.pad_token = tokenizer.eos_token\n",
    "    tokenizer.padding_side = 'right'\n",
    "\n",
    "    return tokenizer"
   ],
   "id": "559b30c7fb0b12bc",
   "outputs": [],
   "execution_count": 11
  },
  {
   "metadata": {
    "ExecuteTime": {
     "end_time": "2025-10-27T21:18:34.344805Z",
     "start_time": "2025-10-27T21:18:34.106519Z"
    }
   },
   "cell_type": "code",
   "source": [
    "tokenizer_settings = cfg[\"tokenizers\"]\n",
    "normal_tokenizer_name = tokenizer_settings[f'normal_prefix']\n",
    "\n",
    "normal_tokenizer = load_tokenizer(\n",
    "    pathlib.Path(tokenizer_settings[\"prefix\"]) / f'{normal_tokenizer_name}-vocab.json',\n",
    "    pathlib.Path(tokenizer_settings[\"prefix\"]) / f'{normal_tokenizer_name}-merges.txt',\n",
    ")\n",
    "normal_tokenizer.add_eos_token = True\n",
    "\n",
    "ipa_tokenizer_name = tokenizer_settings[f'ipa_prefix']\n",
    "\n",
    "ipa_tokenizer = load_tokenizer(\n",
    "    pathlib.Path(tokenizer_settings[\"prefix\"]) / f'{ipa_tokenizer_name}-vocab.json',\n",
    "    pathlib.Path(tokenizer_settings[\"prefix\"]) / f'{ipa_tokenizer_name}-merges.txt',\n",
    ")\n",
    "ipa_tokenizer.add_eos_token = True"
   ],
   "id": "ee6fbe1c3a832a12",
   "outputs": [],
   "execution_count": 12
  },
  {
   "metadata": {
    "ExecuteTime": {
     "end_time": "2025-10-27T21:18:35.628132Z",
     "start_time": "2025-10-27T21:18:35.625959Z"
    }
   },
   "cell_type": "code",
   "source": [
    "def encode_data(q: str, c: str, toke: GPT2TokenizerFast) -> BatchEncoding:\n",
    "    qcs = f'{toke.pad_token} {q} {toke.pad_token} {c} {toke.pad_token}'\n",
    "    return toke(qcs)"
   ],
   "id": "f9846ce00a04ba2d",
   "outputs": [],
   "execution_count": 13
  },
  {
   "metadata": {},
   "cell_type": "markdown",
   "source": "Check the max length for each language",
   "id": "2c7e055f74f3ef6c"
  },
  {
   "metadata": {
    "ExecuteTime": {
     "end_time": "2025-10-27T21:29:09.888512Z",
     "start_time": "2025-10-27T21:27:06.733500Z"
    }
   },
   "cell_type": "code",
   "source": [
    "def calculate_encoding_length(example):\n",
    "    normal_tokens = encode_data(example['question'], example['context'], normal_tokenizer)\n",
    "    ipa_tokens = encode_data(example['question-phoneme'], example['context-phoneme'], ipa_tokenizer)\n",
    "    example['normal_length'] = len(normal_tokens['input_ids'])\n",
    "    example['ipa_length'] = len(ipa_tokens['input_ids'])\n",
    "    return example\n",
    "\n",
    "meta_russian_dataset = raw_russian_dataset.map(calculate_encoding_length)\n",
    "meta_polish_dataset = raw_polish_dataset.map(calculate_encoding_length)"
   ],
   "id": "d8dcf0a79a7ce00c",
   "outputs": [
    {
     "data": {
      "text/plain": [
       "Map:   0%|          | 0/45328 [00:00<?, ? examples/s]"
      ],
      "application/vnd.jupyter.widget-view+json": {
       "version_major": 2,
       "version_minor": 0,
       "model_id": "34aa66ea2ae24d35b913a3650eaf348b"
      }
     },
     "metadata": {},
     "output_type": "display_data",
     "jetTransient": {
      "display_id": null
     }
    },
    {
     "data": {
      "text/plain": [
       "Map:   0%|          | 0/5036 [00:00<?, ? examples/s]"
      ],
      "application/vnd.jupyter.widget-view+json": {
       "version_major": 2,
       "version_minor": 0,
       "model_id": "d1be33ce2368499eb8c8e34dc51075f8"
      }
     },
     "metadata": {},
     "output_type": "display_data",
     "jetTransient": {
      "display_id": null
     }
    },
    {
     "data": {
      "text/plain": [
       "Map:   0%|          | 0/23936 [00:00<?, ? examples/s]"
      ],
      "application/vnd.jupyter.widget-view+json": {
       "version_major": 2,
       "version_minor": 0,
       "model_id": "767c4254af414d8695e9fbbff0f1e243"
      }
     },
     "metadata": {},
     "output_type": "display_data",
     "jetTransient": {
      "display_id": null
     }
    },
    {
     "data": {
      "text/plain": [
       "Map:   0%|          | 0/46187 [00:00<?, ? examples/s]"
      ],
      "application/vnd.jupyter.widget-view+json": {
       "version_major": 2,
       "version_minor": 0,
       "model_id": "a9c380216b944c8bbb40e8abc52d6f96"
      }
     },
     "metadata": {},
     "output_type": "display_data",
     "jetTransient": {
      "display_id": null
     }
    },
    {
     "data": {
      "text/plain": [
       "Map:   0%|          | 0/5764 [00:00<?, ? examples/s]"
      ],
      "application/vnd.jupyter.widget-view+json": {
       "version_major": 2,
       "version_minor": 0,
       "model_id": "9e49ac74736946a39a61931026af237e"
      }
     },
     "metadata": {},
     "output_type": "display_data",
     "jetTransient": {
      "display_id": null
     }
    }
   ],
   "execution_count": 19
  },
  {
   "metadata": {
    "ExecuteTime": {
     "end_time": "2025-10-27T21:35:26.864062Z",
     "start_time": "2025-10-27T21:35:26.658185Z"
    }
   },
   "cell_type": "code",
   "source": [
    "for ds in [meta_russian_dataset, meta_polish_dataset]:\n",
    "    for split in ['train', 'validation']:\n",
    "        for mtype in ['normal', 'ipa']:\n",
    "            print(f'{split}-{mtype}')\n",
    "            print('Max token length:', max(ds[split][f'{mtype}_length']))\n",
    "            print('Avg token length:', np.mean(ds[split][f'{mtype}_length']))\n",
    "            print('Token length deviation:', np.std(ds[split][f'{mtype}_length']))"
   ],
   "id": "962120a633b7306e",
   "outputs": [
    {
     "name": "stdout",
     "output_type": "stream",
     "text": [
      "train-normal\n",
      "Max token length: 2082\n",
      "Avg token length: 208.87283798093893\n",
      "Token length deviation: 86.69307787306761\n",
      "train-ipa\n",
      "Max token length: 1952\n",
      "Avg token length: 201.8111321920226\n",
      "Token length deviation: 82.38975483564286\n",
      "validation-normal\n",
      "Max token length: 1448\n",
      "Avg token length: 207.8381652104845\n",
      "Token length deviation: 86.54822204303147\n",
      "validation-ipa\n",
      "Max token length: 1353\n",
      "Avg token length: 200.63602065131056\n",
      "Token length deviation: 82.26137635659994\n",
      "train-normal\n",
      "Max token length: 2519\n",
      "Avg token length: 283.75330720765584\n",
      "Token length deviation: 131.5902204785123\n",
      "train-ipa\n",
      "Max token length: 2564\n",
      "Avg token length: 291.3003442527118\n",
      "Token length deviation: 134.24326790211703\n",
      "validation-normal\n",
      "Max token length: 1093\n",
      "Avg token length: 285.5324427480916\n",
      "Token length deviation: 127.74486014885045\n",
      "validation-ipa\n",
      "Max token length: 1110\n",
      "Avg token length: 293.25416377515614\n",
      "Token length deviation: 130.47258802748877\n"
     ]
    }
   ],
   "execution_count": 30
  },
  {
   "metadata": {
    "ExecuteTime": {
     "end_time": "2025-10-27T21:39:34.394954Z",
     "start_time": "2025-10-27T21:39:34.376020Z"
    }
   },
   "cell_type": "code",
   "source": [
    "filtered_meta_russian = meta_russian_dataset.filter(lambda r: r['normal_length'] <= 1024 and r['ipa_length'] <= 1024)\n",
    "filtered_meta_polish = meta_polish_dataset.filter(lambda r: r['normal_length'] <= 1024 and r['ipa_length'] <= 1024)\n",
    "print(len(meta_russian_dataset['train']), '->', len(filtered_meta_russian['train']))\n",
    "print(len(meta_russian_dataset['validation']), '->', len(filtered_meta_russian['validation']))\n",
    "print(len(meta_polish_dataset['train']), '->', len(filtered_meta_polish['train']))\n",
    "print(len(meta_polish_dataset['validation']), '->', len(filtered_meta_polish['validation']))"
   ],
   "id": "af39d39f91525934",
   "outputs": [
    {
     "name": "stdout",
     "output_type": "stream",
     "text": [
      "45328 -> 45312\n",
      "5036 -> 5033\n",
      "46187 -> 46076\n",
      "5764 -> 5756\n"
     ]
    }
   ],
   "execution_count": 35
  },
  {
   "metadata": {
    "ExecuteTime": {
     "end_time": "2025-10-24T21:59:00.628235Z",
     "start_time": "2025-10-24T21:59:00.624130Z"
    }
   },
   "cell_type": "code",
   "source": [
    "context = raw_russian_dataset[\"train\"][0][\"context\"]\n",
    "question = raw_russian_dataset[\"train\"][0][\"question\"]\n",
    "\n",
    "assert normal_tokenizer.eos_token_id == 50000\n",
    "\n",
    "inputs = encode_data(question, context, normal_tokenizer)\n",
    "print(inputs)\n",
    "normal_tokenizer.decode(inputs[\"input_ids\"])\n",
    "len(inputs[\"input_ids\"])"
   ],
   "id": "9fade319a2e876a2",
   "outputs": [
    {
     "name": "stdout",
     "output_type": "stream",
     "text": [
      "{'input_ids': [1253, 7804, 37081, 17114, 30, 383, 7375, 337, 405, 318, 1411, 11655, 3471, 37081, 17114, 11468, 6915, 4018, 11, 1253, 281, 4724, 392, 1411, 13, 2458, 7804, 2345, 3426, 1549, 3026, 4048, 280, 1512, 12, 17244, 790, 543, 31243, 1775, 11, 5630, 593, 44353, 11, 10445, 7571, 5037, 2457, 121, 1526, 314, 1551, 13, 2754, 2345, 1218, 1966, 31243, 1775, 11, 290, 21576, 4323, 23935, 36680, 29501, 6571, 36890, 31116, 116, 309, 12, 1561, 17790, 347, 6175, 11, 5198, 35833, 281, 3506, 490, 11048, 913, 5031, 761, 2899, 1322, 460, 70, 34280, 2899, 13, 383, 5417, 17441, 587, 520, 435, 14561, 3520, 7078, 14918, 1839, 1003, 37035, 37595, 15238, 5003, 547, 31243, 455, 11, 4723, 547, 26585, 220, 140, 116, 4212, 11, 26133, 19746, 8019, 40268, 6043, 417, 476, 348, 13, 383, 3520, 14135, 2162, 7475, 1864, 18963, 17631, 220, 140, 116, 22765, 28845, 3520, 14733, 5327, 23309, 16461, 13], 'attention_mask': [1, 1, 1, 1, 1, 1, 1, 1, 1, 1, 1, 1, 1, 1, 1, 1, 1, 1, 1, 1, 1, 1, 1, 1, 1, 1, 1, 1, 1, 1, 1, 1, 1, 1, 1, 1, 1, 1, 1, 1, 1, 1, 1, 1, 1, 1, 1, 1, 1, 1, 1, 1, 1, 1, 1, 1, 1, 1, 1, 1, 1, 1, 1, 1, 1, 1, 1, 1, 1, 1, 1, 1, 1, 1, 1, 1, 1, 1, 1, 1, 1, 1, 1, 1, 1, 1, 1, 1, 1, 1, 1, 1, 1, 1, 1, 1, 1, 1, 1, 1, 1, 1, 1, 1, 1, 1, 1, 1, 1, 1, 1, 1, 1, 1, 1, 1, 1, 1, 1, 1, 1, 1, 1, 1, 1, 1, 1, 1, 1, 1, 1, 1, 1, 1, 1, 1, 1, 1, 1, 1, 1, 1, 1, 1, 1, 1, 1, 1, 1, 1]}\n"
     ]
    },
    {
     "data": {
      "text/plain": [
       "150"
      ]
     },
     "execution_count": 24,
     "metadata": {},
     "output_type": "execute_result"
    }
   ],
   "execution_count": 24
  },
  {
   "metadata": {},
   "cell_type": "markdown",
   "source": "Find max answer length hyperparameters",
   "id": "801266e219703f72"
  },
  {
   "metadata": {
    "ExecuteTime": {
     "end_time": "2025-10-28T14:49:00.338656Z",
     "start_time": "2025-10-28T14:49:00.333914Z"
    }
   },
   "cell_type": "code",
   "source": [
    "def find_answer_lengths(dataset):\n",
    "    def process(example):\n",
    "        normal_answer_len = len(normal_tokenizer(example['answers']['text'][0])['input_ids'])\n",
    "        ipa_answer_len = len(ipa_tokenizer(example['answers-phoneme']['text'][0])['input_ids'])\n",
    "        return {\n",
    "            'normal_answer_length': normal_answer_len,\n",
    "            'ipa_answer_length': ipa_answer_len,\n",
    "        }\n",
    "\n",
    "    return dataset.map(process, num_proc=os.cpu_count())"
   ],
   "id": "e9e240468d7068fb",
   "outputs": [],
   "execution_count": 40
  },
  {
   "metadata": {
    "ExecuteTime": {
     "end_time": "2025-10-28T14:49:19.223267Z",
     "start_time": "2025-10-28T14:49:09.899835Z"
    }
   },
   "cell_type": "code",
   "source": "filtered_meta_russian_answer_lengths = find_answer_lengths(filtered_meta_russian)",
   "id": "a1211ac950ba2e35",
   "outputs": [
    {
     "data": {
      "text/plain": [
       "Map (num_proc=12):   0%|          | 0/45312 [00:00<?, ? examples/s]"
      ],
      "application/vnd.jupyter.widget-view+json": {
       "version_major": 2,
       "version_minor": 0,
       "model_id": "8fa027d3595a45aab0f92c8d85d1e7c8"
      }
     },
     "metadata": {},
     "output_type": "display_data",
     "jetTransient": {
      "display_id": null
     }
    },
    {
     "data": {
      "text/plain": [
       "Map (num_proc=12):   0%|          | 0/5033 [00:00<?, ? examples/s]"
      ],
      "application/vnd.jupyter.widget-view+json": {
       "version_major": 2,
       "version_minor": 0,
       "model_id": "16978a7834e14b059af5df2ddce5192e"
      }
     },
     "metadata": {},
     "output_type": "display_data",
     "jetTransient": {
      "display_id": null
     }
    },
    {
     "data": {
      "text/plain": [
       "Map (num_proc=12):   0%|          | 0/23936 [00:00<?, ? examples/s]"
      ],
      "application/vnd.jupyter.widget-view+json": {
       "version_major": 2,
       "version_minor": 0,
       "model_id": "e08bceaf68514942a0a6328e225f2b2b"
      }
     },
     "metadata": {},
     "output_type": "display_data",
     "jetTransient": {
      "display_id": null
     }
    }
   ],
   "execution_count": 42
  },
  {
   "metadata": {
    "ExecuteTime": {
     "end_time": "2025-10-28T14:49:47.899675Z",
     "start_time": "2025-10-28T14:49:39.753430Z"
    }
   },
   "cell_type": "code",
   "source": "filtered_meta_polish_answer_lengths = find_answer_lengths(filtered_meta_polish)",
   "id": "fbb3653bf6c4587",
   "outputs": [
    {
     "data": {
      "text/plain": [
       "Map (num_proc=12):   0%|          | 0/46076 [00:00<?, ? examples/s]"
      ],
      "application/vnd.jupyter.widget-view+json": {
       "version_major": 2,
       "version_minor": 0,
       "model_id": "e4d57d92030844b89a46c8a4adf1ae65"
      }
     },
     "metadata": {},
     "output_type": "display_data",
     "jetTransient": {
      "display_id": null
     }
    },
    {
     "data": {
      "text/plain": [
       "Map (num_proc=12):   0%|          | 0/5756 [00:00<?, ? examples/s]"
      ],
      "application/vnd.jupyter.widget-view+json": {
       "version_major": 2,
       "version_minor": 0,
       "model_id": "2bf6c1b925ce4d61bf0ad6aa9883150c"
      }
     },
     "metadata": {},
     "output_type": "display_data",
     "jetTransient": {
      "display_id": null
     }
    }
   ],
   "execution_count": 43
  },
  {
   "metadata": {
    "ExecuteTime": {
     "end_time": "2025-10-28T14:52:02.144145Z",
     "start_time": "2025-10-28T14:52:01.730788Z"
    }
   },
   "cell_type": "code",
   "source": [
    "for ds in [filtered_meta_russian_answer_lengths, filtered_meta_polish_answer_lengths]:\n",
    "    for split in ['train', 'validation']:\n",
    "        for mtype in ['normal', 'ipa']:\n",
    "            print(f'{split}-{mtype}')\n",
    "            print('Max token length:', max(ds[split][f'{mtype}_answer_length']))\n",
    "            print('Avg token length:', np.mean(ds[split][f'{mtype}_answer_length']))\n",
    "            print('Token length deviation:', np.std(ds[split][f'{mtype}_answer_length']))"
   ],
   "id": "809e55329ed860a9",
   "outputs": [
    {
     "name": "stdout",
     "output_type": "stream",
     "text": [
      "train-normal\n",
      "Max token length: 225\n",
      "Avg token length: 6.59765625\n",
      "Token length deviation: 5.137451009545493\n",
      "train-ipa\n",
      "Max token length: 72\n",
      "Avg token length: 5.7068326271186445\n",
      "Token length deviation: 4.728909757650025\n",
      "validation-normal\n",
      "Max token length: 51\n",
      "Avg token length: 6.6932247168686665\n",
      "Token length deviation: 4.958527365516985\n",
      "validation-ipa\n",
      "Max token length: 49\n",
      "Avg token length: 5.832306775283131\n",
      "Token length deviation: 4.650179978919945\n",
      "train-normal\n",
      "Max token length: 471\n",
      "Avg token length: 12.317497178574529\n",
      "Token length deviation: 13.895979139914434\n",
      "train-ipa\n",
      "Max token length: 460\n",
      "Avg token length: 12.624251237086552\n",
      "Token length deviation: 14.230792156002877\n",
      "validation-normal\n",
      "Max token length: 458\n",
      "Avg token length: 12.71455872133426\n",
      "Token length deviation: 16.20041491319975\n",
      "validation-ipa\n",
      "Max token length: 456\n",
      "Avg token length: 13.05767894371091\n",
      "Token length deviation: 16.642047867543926\n"
     ]
    }
   ],
   "execution_count": 44
  },
  {
   "metadata": {},
   "cell_type": "code",
   "outputs": [],
   "execution_count": null,
   "source": "",
   "id": "e15530976f1b67e7"
  }
 ],
 "metadata": {
  "kernelspec": {
   "display_name": "Python 3",
   "language": "python",
   "name": "python3"
  },
  "language_info": {
   "codemirror_mode": {
    "name": "ipython",
    "version": 2
   },
   "file_extension": ".py",
   "mimetype": "text/x-python",
   "name": "python",
   "nbconvert_exporter": "python",
   "pygments_lexer": "ipython2",
   "version": "2.7.6"
  }
 },
 "nbformat": 4,
 "nbformat_minor": 5
}
