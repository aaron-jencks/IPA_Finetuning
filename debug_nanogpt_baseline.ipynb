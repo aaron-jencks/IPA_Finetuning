{
 "cells": [
  {
   "cell_type": "code",
   "id": "c9e26b95-bb47-45c5-bb00-5eefaf4289a6",
   "metadata": {
    "ExecuteTime": {
     "end_time": "2025-05-18T19:27:08.092344Z",
     "start_time": "2025-05-18T19:27:05.281416Z"
    }
   },
   "source": [
    "from datasets import load_dataset, load_from_disk\n",
    "import evaluate\n",
    "import torch\n",
    "from torch import nn\n",
    "from transformers import (\n",
    "    Trainer,\n",
    "    TrainingArguments,\n",
    "    DataCollatorWithPadding,\n",
    ")\n",
    "\n",
    "from model import GPT, GPTConfig\n",
    "from tokenizer import load_tokenizer\n",
    "from transformers import GPT2Tokenizer\n",
    "from transformers.modeling_outputs import SequenceClassifierOutput\n",
    "import numpy as np"
   ],
   "outputs": [
    {
     "name": "stderr",
     "output_type": "stream",
     "text": [
      "/home/aaron/miniconda3/envs/ipa-gpt-310/lib/python3.10/site-packages/tqdm/auto.py:21: TqdmWarning: IProgress not found. Please update jupyter and ipywidgets. See https://ipywidgets.readthedocs.io/en/stable/user_install.html\n",
      "  from .autonotebook import tqdm as notebook_tqdm\n"
     ]
    }
   ],
   "execution_count": 1
  },
  {
   "metadata": {
    "ExecuteTime": {
     "end_time": "2025-05-18T19:27:08.326007Z",
     "start_time": "2025-05-18T19:27:08.095370Z"
    }
   },
   "cell_type": "code",
   "source": [
    "# 2. Load tokenizer and model\n",
    "tokenizer = GPT2Tokenizer.from_pretrained(\"gpt2\")\n",
    "tokenizer.pad_token = tokenizer.eos_token  # GPT2 doesn't have a pad token"
   ],
   "id": "c774f22f22b36e09",
   "outputs": [],
   "execution_count": 2
  },
  {
   "cell_type": "code",
   "id": "c36ea454-4dd8-4b20-810c-9a733e67e41c",
   "metadata": {
    "ExecuteTime": {
     "end_time": "2025-05-18T19:27:08.390775Z",
     "start_time": "2025-05-18T19:27:08.386935Z"
    }
   },
   "source": [
    "class GPTForSequenceClassification(nn.Module):\n",
    "    def __init__(self, pretrained_model, num_classes=2):\n",
    "        super().__init__()\n",
    "        self.pretrained_model = pretrained_model\n",
    "        self.num_classes = num_classes\n",
    "        self.hidden_size = pretrained_model.config.n_embd\n",
    "        self.pad_token_id = pretrained_model.config.pad_token_id\n",
    "\n",
    "        self.classifier = nn.Linear(self.hidden_size, num_classes, bias=False)\n",
    "        self.classifier.weight.data.normal_(mean=0.0, std=0.02)\n",
    "\n",
    "    def forward(self, input_ids=None, attention_mask=None, labels=None, **kwargs):\n",
    "        hidden_states = self.pretrained_model(input_ids)  # (batch_size, seq_len, hidden_size)\n",
    "        logits = self.classifier(hidden_states)\n",
    "        # print(input_ids)\n",
    "        # input()\n",
    "\n",
    "        batch_size, sequence_length = input_ids.shape[:2]\n",
    "\n",
    "        # To handle both left- and right- padding, we take the rightmost token that is not equal to pad_token_id\n",
    "        non_pad_mask = (input_ids != self.pad_token_id).to(logits.device, torch.int32)\n",
    "        token_indices = torch.arange(input_ids.shape[-1], device=logits.device, dtype=torch.int32)\n",
    "        last_non_pad_token = (token_indices * non_pad_mask).argmax(-1)\n",
    "\n",
    "        pooled_logits = logits[torch.arange(batch_size, device=logits.device), last_non_pad_token]\n",
    "\n",
    "        loss = None\n",
    "        if labels is not None:\n",
    "            loss_fn = nn.CrossEntropyLoss()\n",
    "            loss = loss_fn(pooled_logits, labels)\n",
    "\n",
    "        return SequenceClassifierOutput(\n",
    "            loss=loss,\n",
    "            logits=pooled_logits,\n",
    "            hidden_states=None,\n",
    "            attentions=None,\n",
    "        )"
   ],
   "outputs": [],
   "execution_count": 3
  },
  {
   "cell_type": "code",
   "id": "17837789-581e-4776-a881-5cc23429d31c",
   "metadata": {
    "ExecuteTime": {
     "end_time": "2025-05-18T19:27:08.432840Z",
     "start_time": "2025-05-18T19:27:08.429727Z"
    }
   },
   "source": [
    "def load_pretrained_model(path, device='cuda'):\n",
    "    # Load the pretrained model\n",
    "    print(f\"Loading pretrained model from {path}\")\n",
    "    checkpoint = torch.load(path, map_location=device)\n",
    "\n",
    "    # Create the nanoGPT instance to load in saved weights\n",
    "    gptconf = GPTConfig(**checkpoint['model_args'])\n",
    "    pretrained_model = GPT(gptconf)\n",
    "    state_dict = checkpoint['model']\n",
    "\n",
    "    # Clean up the saved state\n",
    "    unwanted_prefix = '_orig_mod.'\n",
    "    for k, v in list(state_dict.items()):\n",
    "        if k.startswith(unwanted_prefix):\n",
    "            state_dict[k[len(unwanted_prefix):]] = state_dict.pop(k)\n",
    "\n",
    "    # Only load the parameters that match the checkpoint weights\n",
    "    model_dict = pretrained_model.state_dict()\n",
    "    filtered_state_dict = {k: v for k, v in state_dict.items()\n",
    "                           if k in model_dict and v.shape == model_dict[k].shape}\n",
    "    model_dict.update(filtered_state_dict)\n",
    "    pretrained_model.load_state_dict(model_dict)\n",
    "    pretrained_model.to(device)\n",
    "\n",
    "    return pretrained_model"
   ],
   "outputs": [],
   "execution_count": 4
  },
  {
   "cell_type": "code",
   "id": "a3f2289d-66e5-4c4a-80ec-aeb80f0e45cf",
   "metadata": {
    "ExecuteTime": {
     "end_time": "2025-05-18T19:27:08.477027Z",
     "start_time": "2025-05-18T19:27:08.475302Z"
    }
   },
   "source": [
    "model = \"data/english-prebuilt-ckpt.pt\"\n",
    "device = \"cuda\""
   ],
   "outputs": [],
   "execution_count": 5
  },
  {
   "cell_type": "code",
   "id": "920f8140-a94c-474d-8d1c-a45c799f171d",
   "metadata": {
    "ExecuteTime": {
     "end_time": "2025-05-18T19:27:08.528500Z",
     "start_time": "2025-05-18T19:27:08.523599Z"
    }
   },
   "source": [
    "tokenizer"
   ],
   "outputs": [
    {
     "data": {
      "text/plain": [
       "GPT2Tokenizer(name_or_path='gpt2', vocab_size=50257, model_max_length=1024, is_fast=False, padding_side='right', truncation_side='right', special_tokens={'bos_token': '<|endoftext|>', 'eos_token': '<|endoftext|>', 'unk_token': '<|endoftext|>', 'pad_token': '<|endoftext|>'}, clean_up_tokenization_spaces=False, added_tokens_decoder={\n",
       "\t50256: AddedToken(\"<|endoftext|>\", rstrip=False, lstrip=False, single_word=False, normalized=True, special=True),\n",
       "}\n",
       ")"
      ]
     },
     "execution_count": 6,
     "metadata": {},
     "output_type": "execute_result"
    }
   ],
   "execution_count": 6
  },
  {
   "cell_type": "code",
   "id": "00c9c34a-d987-46ba-9cf9-01878e5d089e",
   "metadata": {
    "ExecuteTime": {
     "end_time": "2025-05-18T19:27:10.124297Z",
     "start_time": "2025-05-18T19:27:08.573616Z"
    }
   },
   "source": [
    "base_model = load_pretrained_model(model, device)\n",
    "base_model.config.pad_token_id = tokenizer.pad_token_id\n",
    "base_model.config.padding_side = tokenizer.padding_side\n",
    "model = GPTForSequenceClassification(base_model).to(device)"
   ],
   "outputs": [
    {
     "name": "stdout",
     "output_type": "stream",
     "text": [
      "Loading pretrained model from data/english-prebuilt-ckpt.pt\n",
      "number of parameters: 123.59M\n"
     ]
    }
   ],
   "execution_count": 7
  },
  {
   "cell_type": "code",
   "id": "64b800f9-d78b-48e8-9559-bfbea141886b",
   "metadata": {
    "ExecuteTime": {
     "end_time": "2025-05-18T19:27:10.131936Z",
     "start_time": "2025-05-18T19:27:10.129689Z"
    }
   },
   "source": [
    "total_trainable_params = sum(param.numel() for param in model.parameters())\n",
    "print(f\"Total number of trainable parameters: {total_trainable_params}\")"
   ],
   "outputs": [
    {
     "name": "stdout",
     "output_type": "stream",
     "text": [
      "Total number of trainable parameters: 124375296\n"
     ]
    }
   ],
   "execution_count": 8
  },
  {
   "cell_type": "code",
   "id": "6e8da039-55e2-4bee-9a1e-bed1ba26308e",
   "metadata": {
    "ExecuteTime": {
     "end_time": "2025-05-18T19:27:12.135456Z",
     "start_time": "2025-05-18T19:27:10.173629Z"
    }
   },
   "source": [
    "# 1. Load the SST-2 dataset\n",
    "dataset = load_dataset(\"glue\", \"sst2\")\n",
    "train_dataset = dataset[\"train\"]\n",
    "eval_dataset = dataset[\"validation\"]"
   ],
   "outputs": [],
   "execution_count": 9
  },
  {
   "cell_type": "code",
   "id": "91e819cc-70c0-43fa-bf43-157f857748a2",
   "metadata": {
    "ExecuteTime": {
     "end_time": "2025-05-18T19:40:17.147394Z",
     "start_time": "2025-05-18T19:27:12.141422Z"
    }
   },
   "source": [
    "# 3. Preprocessing\n",
    "def preprocess(example):\n",
    "    return tokenizer(\n",
    "        example[\"sentence\"],\n",
    "        truncation=True,\n",
    "        padding=True,\n",
    "        max_length=128,\n",
    "    )\n",
    "\n",
    "encoded_train = train_dataset.map(preprocess)\n",
    "encoded_eval = eval_dataset.map(preprocess)\n",
    "\n",
    "# 4. Metric\n",
    "accuracy = evaluate.load(\"accuracy\")\n",
    "\n",
    "def compute_metrics(eval_pred):\n",
    "    logits, labels = eval_pred\n",
    "    preds = np.argmax(logits, axis=-1)\n",
    "    return accuracy.compute(predictions=preds, references=labels)\n",
    "\n",
    "# 5. Data collator\n",
    "data_collator = DataCollatorWithPadding(tokenizer=tokenizer)\n",
    "\n",
    "# 6. Training arguments\n",
    "training_args = TrainingArguments(\n",
    "    output_dir=\"./gpt2-sst2-cls\",\n",
    "    eval_strategy=\"steps\",\n",
    "    eval_steps=500,\n",
    "    save_strategy=\"epoch\",\n",
    "    learning_rate=2e-5,\n",
    "    per_device_train_batch_size=8,\n",
    "    per_device_eval_batch_size=8,\n",
    "    num_train_epochs=3,\n",
    "    weight_decay=0.01,\n",
    "    logging_dir=\"./logs\",\n",
    "    fp16=torch.cuda.is_available(),\n",
    "    save_total_limit=1,\n",
    "    report_to=\"none\",  # No wandb\n",
    "    warmup_ratio=0.1,\n",
    ")\n",
    "\n",
    "# 7. Trainer\n",
    "trainer = Trainer(\n",
    "    model=model,\n",
    "    args=training_args,\n",
    "    train_dataset=encoded_train,\n",
    "    eval_dataset=encoded_eval,\n",
    "    tokenizer=tokenizer,\n",
    "    data_collator=data_collator,\n",
    "    compute_metrics=compute_metrics\n",
    ")\n",
    "\n",
    "# 8. Train!\n",
    "trainer.train()\n"
   ],
   "outputs": [
    {
     "name": "stderr",
     "output_type": "stream",
     "text": [
      "Map: 100%|██████████| 67349/67349 [00:10<00:00, 6490.54 examples/s]\n",
      "Map: 100%|██████████| 872/872 [00:00<00:00, 3353.47 examples/s]\n",
      "/tmp/ipykernel_149061/1731791221.py:43: FutureWarning: `tokenizer` is deprecated and will be removed in version 5.0.0 for `Trainer.__init__`. Use `processing_class` instead.\n",
      "  trainer = Trainer(\n"
     ]
    },
    {
     "data": {
      "text/plain": [
       "<IPython.core.display.HTML object>"
      ],
      "text/html": [
       "\n",
       "    <div>\n",
       "      \n",
       "      <progress value='25257' max='25257' style='width:300px; height:20px; vertical-align: middle;'></progress>\n",
       "      [25257/25257 12:52, Epoch 3/3]\n",
       "    </div>\n",
       "    <table border=\"1\" class=\"dataframe\">\n",
       "  <thead>\n",
       " <tr style=\"text-align: left;\">\n",
       "      <th>Step</th>\n",
       "      <th>Training Loss</th>\n",
       "      <th>Validation Loss</th>\n",
       "      <th>Accuracy</th>\n",
       "    </tr>\n",
       "  </thead>\n",
       "  <tbody>\n",
       "    <tr>\n",
       "      <td>500</td>\n",
       "      <td>0.621900</td>\n",
       "      <td>0.391935</td>\n",
       "      <td>0.888761</td>\n",
       "    </tr>\n",
       "    <tr>\n",
       "      <td>1000</td>\n",
       "      <td>0.502900</td>\n",
       "      <td>0.363113</td>\n",
       "      <td>0.897936</td>\n",
       "    </tr>\n",
       "    <tr>\n",
       "      <td>1500</td>\n",
       "      <td>0.463500</td>\n",
       "      <td>0.632804</td>\n",
       "      <td>0.854358</td>\n",
       "    </tr>\n",
       "    <tr>\n",
       "      <td>2000</td>\n",
       "      <td>0.462800</td>\n",
       "      <td>0.510123</td>\n",
       "      <td>0.861239</td>\n",
       "    </tr>\n",
       "    <tr>\n",
       "      <td>2500</td>\n",
       "      <td>0.449200</td>\n",
       "      <td>0.421011</td>\n",
       "      <td>0.865826</td>\n",
       "    </tr>\n",
       "    <tr>\n",
       "      <td>3000</td>\n",
       "      <td>0.420400</td>\n",
       "      <td>0.591863</td>\n",
       "      <td>0.841743</td>\n",
       "    </tr>\n",
       "    <tr>\n",
       "      <td>3500</td>\n",
       "      <td>0.428800</td>\n",
       "      <td>0.342181</td>\n",
       "      <td>0.881881</td>\n",
       "    </tr>\n",
       "    <tr>\n",
       "      <td>4000</td>\n",
       "      <td>0.392700</td>\n",
       "      <td>0.439697</td>\n",
       "      <td>0.866972</td>\n",
       "    </tr>\n",
       "    <tr>\n",
       "      <td>4500</td>\n",
       "      <td>0.386300</td>\n",
       "      <td>0.664984</td>\n",
       "      <td>0.853211</td>\n",
       "    </tr>\n",
       "    <tr>\n",
       "      <td>5000</td>\n",
       "      <td>0.392500</td>\n",
       "      <td>0.759472</td>\n",
       "      <td>0.862385</td>\n",
       "    </tr>\n",
       "    <tr>\n",
       "      <td>5500</td>\n",
       "      <td>0.384100</td>\n",
       "      <td>0.604441</td>\n",
       "      <td>0.864679</td>\n",
       "    </tr>\n",
       "    <tr>\n",
       "      <td>6000</td>\n",
       "      <td>0.368100</td>\n",
       "      <td>0.442921</td>\n",
       "      <td>0.876147</td>\n",
       "    </tr>\n",
       "    <tr>\n",
       "      <td>6500</td>\n",
       "      <td>0.354700</td>\n",
       "      <td>0.380235</td>\n",
       "      <td>0.891055</td>\n",
       "    </tr>\n",
       "    <tr>\n",
       "      <td>7000</td>\n",
       "      <td>0.353800</td>\n",
       "      <td>0.625746</td>\n",
       "      <td>0.870413</td>\n",
       "    </tr>\n",
       "    <tr>\n",
       "      <td>7500</td>\n",
       "      <td>0.351700</td>\n",
       "      <td>0.504185</td>\n",
       "      <td>0.856651</td>\n",
       "    </tr>\n",
       "    <tr>\n",
       "      <td>8000</td>\n",
       "      <td>0.321600</td>\n",
       "      <td>0.439911</td>\n",
       "      <td>0.886468</td>\n",
       "    </tr>\n",
       "    <tr>\n",
       "      <td>8500</td>\n",
       "      <td>0.301100</td>\n",
       "      <td>0.639759</td>\n",
       "      <td>0.876147</td>\n",
       "    </tr>\n",
       "    <tr>\n",
       "      <td>9000</td>\n",
       "      <td>0.235900</td>\n",
       "      <td>0.730565</td>\n",
       "      <td>0.869266</td>\n",
       "    </tr>\n",
       "    <tr>\n",
       "      <td>9500</td>\n",
       "      <td>0.217100</td>\n",
       "      <td>0.582544</td>\n",
       "      <td>0.887615</td>\n",
       "    </tr>\n",
       "    <tr>\n",
       "      <td>10000</td>\n",
       "      <td>0.244000</td>\n",
       "      <td>0.672570</td>\n",
       "      <td>0.861239</td>\n",
       "    </tr>\n",
       "    <tr>\n",
       "      <td>10500</td>\n",
       "      <td>0.220400</td>\n",
       "      <td>0.516498</td>\n",
       "      <td>0.896789</td>\n",
       "    </tr>\n",
       "    <tr>\n",
       "      <td>11000</td>\n",
       "      <td>0.225900</td>\n",
       "      <td>0.634752</td>\n",
       "      <td>0.881881</td>\n",
       "    </tr>\n",
       "    <tr>\n",
       "      <td>11500</td>\n",
       "      <td>0.227800</td>\n",
       "      <td>0.716721</td>\n",
       "      <td>0.852064</td>\n",
       "    </tr>\n",
       "    <tr>\n",
       "      <td>12000</td>\n",
       "      <td>0.239000</td>\n",
       "      <td>0.468384</td>\n",
       "      <td>0.893349</td>\n",
       "    </tr>\n",
       "    <tr>\n",
       "      <td>12500</td>\n",
       "      <td>0.235200</td>\n",
       "      <td>0.507431</td>\n",
       "      <td>0.894495</td>\n",
       "    </tr>\n",
       "    <tr>\n",
       "      <td>13000</td>\n",
       "      <td>0.233000</td>\n",
       "      <td>0.537126</td>\n",
       "      <td>0.886468</td>\n",
       "    </tr>\n",
       "    <tr>\n",
       "      <td>13500</td>\n",
       "      <td>0.198800</td>\n",
       "      <td>0.597100</td>\n",
       "      <td>0.884174</td>\n",
       "    </tr>\n",
       "    <tr>\n",
       "      <td>14000</td>\n",
       "      <td>0.212500</td>\n",
       "      <td>0.601755</td>\n",
       "      <td>0.881881</td>\n",
       "    </tr>\n",
       "    <tr>\n",
       "      <td>14500</td>\n",
       "      <td>0.202000</td>\n",
       "      <td>0.474495</td>\n",
       "      <td>0.905963</td>\n",
       "    </tr>\n",
       "    <tr>\n",
       "      <td>15000</td>\n",
       "      <td>0.217900</td>\n",
       "      <td>0.498243</td>\n",
       "      <td>0.883028</td>\n",
       "    </tr>\n",
       "    <tr>\n",
       "      <td>15500</td>\n",
       "      <td>0.220100</td>\n",
       "      <td>0.465436</td>\n",
       "      <td>0.902523</td>\n",
       "    </tr>\n",
       "    <tr>\n",
       "      <td>16000</td>\n",
       "      <td>0.219100</td>\n",
       "      <td>0.550443</td>\n",
       "      <td>0.888761</td>\n",
       "    </tr>\n",
       "    <tr>\n",
       "      <td>16500</td>\n",
       "      <td>0.221500</td>\n",
       "      <td>0.484861</td>\n",
       "      <td>0.894495</td>\n",
       "    </tr>\n",
       "    <tr>\n",
       "      <td>17000</td>\n",
       "      <td>0.170100</td>\n",
       "      <td>0.574071</td>\n",
       "      <td>0.894495</td>\n",
       "    </tr>\n",
       "    <tr>\n",
       "      <td>17500</td>\n",
       "      <td>0.081900</td>\n",
       "      <td>0.618481</td>\n",
       "      <td>0.900229</td>\n",
       "    </tr>\n",
       "    <tr>\n",
       "      <td>18000</td>\n",
       "      <td>0.106700</td>\n",
       "      <td>0.573289</td>\n",
       "      <td>0.893349</td>\n",
       "    </tr>\n",
       "    <tr>\n",
       "      <td>18500</td>\n",
       "      <td>0.103100</td>\n",
       "      <td>0.621599</td>\n",
       "      <td>0.896789</td>\n",
       "    </tr>\n",
       "    <tr>\n",
       "      <td>19000</td>\n",
       "      <td>0.115300</td>\n",
       "      <td>0.628471</td>\n",
       "      <td>0.887615</td>\n",
       "    </tr>\n",
       "    <tr>\n",
       "      <td>19500</td>\n",
       "      <td>0.089500</td>\n",
       "      <td>0.599828</td>\n",
       "      <td>0.894495</td>\n",
       "    </tr>\n",
       "    <tr>\n",
       "      <td>20000</td>\n",
       "      <td>0.097400</td>\n",
       "      <td>0.638559</td>\n",
       "      <td>0.886468</td>\n",
       "    </tr>\n",
       "    <tr>\n",
       "      <td>20500</td>\n",
       "      <td>0.112300</td>\n",
       "      <td>0.553016</td>\n",
       "      <td>0.900229</td>\n",
       "    </tr>\n",
       "    <tr>\n",
       "      <td>21000</td>\n",
       "      <td>0.103700</td>\n",
       "      <td>0.601302</td>\n",
       "      <td>0.886468</td>\n",
       "    </tr>\n",
       "    <tr>\n",
       "      <td>21500</td>\n",
       "      <td>0.103000</td>\n",
       "      <td>0.596121</td>\n",
       "      <td>0.886468</td>\n",
       "    </tr>\n",
       "    <tr>\n",
       "      <td>22000</td>\n",
       "      <td>0.104900</td>\n",
       "      <td>0.603186</td>\n",
       "      <td>0.885321</td>\n",
       "    </tr>\n",
       "    <tr>\n",
       "      <td>22500</td>\n",
       "      <td>0.106600</td>\n",
       "      <td>0.569876</td>\n",
       "      <td>0.893349</td>\n",
       "    </tr>\n",
       "    <tr>\n",
       "      <td>23000</td>\n",
       "      <td>0.085800</td>\n",
       "      <td>0.584303</td>\n",
       "      <td>0.893349</td>\n",
       "    </tr>\n",
       "    <tr>\n",
       "      <td>23500</td>\n",
       "      <td>0.091100</td>\n",
       "      <td>0.584967</td>\n",
       "      <td>0.893349</td>\n",
       "    </tr>\n",
       "    <tr>\n",
       "      <td>24000</td>\n",
       "      <td>0.092300</td>\n",
       "      <td>0.586132</td>\n",
       "      <td>0.894495</td>\n",
       "    </tr>\n",
       "    <tr>\n",
       "      <td>24500</td>\n",
       "      <td>0.087000</td>\n",
       "      <td>0.565443</td>\n",
       "      <td>0.895642</td>\n",
       "    </tr>\n",
       "    <tr>\n",
       "      <td>25000</td>\n",
       "      <td>0.087700</td>\n",
       "      <td>0.573270</td>\n",
       "      <td>0.894495</td>\n",
       "    </tr>\n",
       "  </tbody>\n",
       "</table><p>"
      ]
     },
     "metadata": {},
     "output_type": "display_data"
    },
    {
     "data": {
      "text/plain": [
       "TrainOutput(global_step=25257, training_loss=0.24383378579204315, metrics={'train_runtime': 772.6181, 'train_samples_per_second': 261.51, 'train_steps_per_second': 32.69, 'total_flos': 0.0, 'train_loss': 0.24383378579204315, 'epoch': 3.0})"
      ]
     },
     "execution_count": 10,
     "metadata": {},
     "output_type": "execute_result"
    }
   ],
   "execution_count": 10
  },
  {
   "cell_type": "code",
   "id": "58aa7064-365c-4800-99f0-248a6a385afc",
   "metadata": {
    "ExecuteTime": {
     "end_time": "2025-05-18T19:40:17.198825Z",
     "start_time": "2025-05-18T19:40:17.197407Z"
    }
   },
   "source": [],
   "outputs": [],
   "execution_count": null
  }
 ],
 "metadata": {
  "kernelspec": {
   "display_name": "Python 3 (ipykernel)",
   "language": "python",
   "name": "python3"
  },
  "language_info": {
   "codemirror_mode": {
    "name": "ipython",
    "version": 3
   },
   "file_extension": ".py",
   "mimetype": "text/x-python",
   "name": "python",
   "nbconvert_exporter": "python",
   "pygments_lexer": "ipython3",
   "version": "3.10.16"
  }
 },
 "nbformat": 4,
 "nbformat_minor": 5
}
